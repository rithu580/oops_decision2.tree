{
  "nbformat": 4,
  "nbformat_minor": 0,
  "metadata": {
    "colab": {
      "provenance": [],
      "authorship_tag": "ABX9TyM+PCx+YVo7KZhebe2Q3nDM",
      "include_colab_link": true
    },
    "kernelspec": {
      "name": "python3",
      "display_name": "Python 3"
    },
    "language_info": {
      "name": "python"
    }
  },
  "cells": [
    {
      "cell_type": "markdown",
      "metadata": {
        "id": "view-in-github",
        "colab_type": "text"
      },
      "source": [
        "<a href=\"https://colab.research.google.com/github/rithu580/oops_decision2.tree/blob/main/Mlops.ipynb\" target=\"_parent\"><img src=\"https://colab.research.google.com/assets/colab-badge.svg\" alt=\"Open In Colab\"/></a>"
      ]
    },
    {
      "cell_type": "code",
      "execution_count": 20,
      "metadata": {
        "colab": {
          "base_uri": "https://localhost:8080/"
        },
        "id": "wd-EVh4l8Y2i",
        "outputId": "6492c1cb-9a86-4385-86f7-014c3c48508d"
      },
      "outputs": [
        {
          "output_type": "stream",
          "name": "stdout",
          "text": [
            "Cloning into 'song70_recommender'...\n",
            "remote: Enumerating objects: 3, done.\u001b[K\n",
            "remote: Counting objects: 100% (3/3), done.\u001b[K\n",
            "remote: Total 3 (delta 0), reused 0 (delta 0), pack-reused 0 (from 0)\u001b[K\n",
            "Receiving objects: 100% (3/3), done.\n",
            "/content/song70_recommender/song70_recommender/song70_recommender\n"
          ]
        }
      ],
      "source": [
        "# Run this in Colab\n",
        "!git clone https://github.com/rithu580/song70_recommender.git\n",
        "%cd song70_recommender"
      ]
    },
    {
      "cell_type": "code",
      "source": [
        "!mkdir -p data\n",
        "# Write the CSV file with song data instead of outfits\n",
        "with open(\"data/songs.csv\", \"w\") as f:\n",
        "    f.write(\"song,genre,mood\\n\")  # Columns: song name, genre, mood (like occasion)\n",
        "    f.write(\"Bohemian Rhapsody,Rock,Epic\\n\")\n",
        "    f.write(\"Blinding Lights,Pop,Energetic\\n\")\n",
        "    f.write(\"Shape of You,Pop,Happy\\n\")\n",
        "    f.write(\"Stairway to Heaven,Rock,Calm\\n\")\n",
        "    f.write(\"Uptown Funk,Funk,Party\\n\")\n",
        "\n",
        "# Verify the contents\n",
        "!cat data/songs.csv"
      ],
      "metadata": {
        "colab": {
          "base_uri": "https://localhost:8080/"
        },
        "id": "B2VJHet78zGG",
        "outputId": "52093a03-ecd1-4e2f-d9b2-6fd85ea1546b"
      },
      "execution_count": 2,
      "outputs": [
        {
          "output_type": "stream",
          "name": "stdout",
          "text": [
            "song,genre,mood\n",
            "Bohemian Rhapsody,Rock,Epic\n",
            "Blinding Lights,Pop,Energetic\n",
            "Shape of You,Pop,Happy\n",
            "Stairway to Heaven,Rock,Calm\n",
            "Uptown Funk,Funk,Party\n"
          ]
        }
      ]
    },
    {
      "cell_type": "code",
      "source": [
        "!mkdir -p recommender\n",
        "# Create song_recommender.py with the recommender class\n",
        "with open(\"recommender/song_recommender.py\", \"w\") as f:\n",
        "    f.write(\"\"\"\n",
        "import pandas as pd\n",
        "\n",
        "class SongRecommender:\n",
        "    def __init__(self, csv_path):\n",
        "        self.data = pd.read_csv(csv_path)\n",
        "\n",
        "    def recommend(self, genre=None, mood=None):\n",
        "        \\\"\\\"\\\"\n",
        "        Recommends songs based on genre and/or mood filters.\n",
        "\n",
        "        Args:\n",
        "            genre (str): Filter by music genre (e.g., 'Pop', 'Rock')\n",
        "            mood (str): Filter by song mood (e.g., 'Happy', 'Energetic')\n",
        "\n",
        "        Returns:\n",
        "            list: Recommended song titles matching the criteria\n",
        "        \\\"\\\"\\\"\n",
        "        result = self.data\n",
        "\n",
        "        if genre:\n",
        "            result = result[result['genre'].str.lower() == genre.lower()]\n",
        "\n",
        "        if mood:\n",
        "            result = result[result['mood'].str.lower() == mood.lower()]\n",
        "\n",
        "        return result['song'].tolist()\n",
        "\n",
        "    def get_random_recommendation(self):\n",
        "        \\\"\\\"\\\"\n",
        "        Returns a random song recommendation\n",
        "        \\\"\\\"\\\"\n",
        "        return self.data.sample(1).iloc[0].to_dict()\n",
        "\"\"\")"
      ],
      "metadata": {
        "id": "H_wBrvrm-LCx"
      },
      "execution_count": 3,
      "outputs": []
    },
    {
      "cell_type": "code",
      "source": [
        "with open(\"main.py\", \"w\") as f:\n",
        "    f.write(\"\"\"\\\n",
        "from recommender.song_recommender import SongRecommender\n",
        "\n",
        "def main():\n",
        "    # Initialize recommender with song data\n",
        "    recommender = SongRecommender(\"data/songs.csv\")\n",
        "\n",
        "    print(\"=== Music Recommendation System ===\")\n",
        "\n",
        "    # Example 1: Recommendations by genre\n",
        "    print(\"\\\\nRock Songs:\")\n",
        "    print(recommender.recommend(genre=\"Rock\"))\n",
        "\n",
        "    # Example 2: Recommendations by mood\n",
        "    print(\"\\\\nEnergetic Songs:\")\n",
        "    print(recommender.recommend(mood=\"Energetic\"))\n",
        "\n",
        "    # Example 3: Random recommendation\n",
        "    print(\"\\\\nRandom Recommendation:\")\n",
        "    print(recommender.get_random_recommendation())\n",
        "\n",
        "if __name__ == \"__main__\":\n",
        "    main()\n",
        "\"\"\")"
      ],
      "metadata": {
        "id": "KJVB6pzc-ggK"
      },
      "execution_count": 8,
      "outputs": []
    },
    {
      "cell_type": "code",
      "source": [
        "!python main.py"
      ],
      "metadata": {
        "colab": {
          "base_uri": "https://localhost:8080/"
        },
        "id": "Xc76bf0T-5h8",
        "outputId": "2c53bc72-d24e-4dc9-fa7d-2fbd0b2d1f67"
      },
      "execution_count": 9,
      "outputs": [
        {
          "output_type": "stream",
          "name": "stdout",
          "text": [
            "=== Music Recommendation System ===\n",
            "\n",
            "Rock Songs:\n",
            "['Bohemian Rhapsody', 'Stairway to Heaven']\n",
            "\n",
            "Energetic Songs:\n",
            "['Blinding Lights']\n",
            "\n",
            "Random Recommendation:\n",
            "{'song': 'Shape of You', 'genre': 'Pop', 'mood': 'Happy'}\n"
          ]
        }
      ]
    },
    {
      "cell_type": "code",
      "source": [
        "# Step 7: Use Git in Colab\n",
        "!git config --global user.email \"rithurithika777@gmail.com\"\n",
        "!git config --global user.name \"rithu580\""
      ],
      "metadata": {
        "id": "NPmjl9L3AnSO"
      },
      "execution_count": 10,
      "outputs": []
    },
    {
      "cell_type": "code",
      "source": [
        "!git status"
      ],
      "metadata": {
        "colab": {
          "base_uri": "https://localhost:8080/"
        },
        "id": "b0Bt-97MAyId",
        "outputId": "f088fe1b-97fb-4278-8271-8e24aea59596"
      },
      "execution_count": 16,
      "outputs": [
        {
          "output_type": "stream",
          "name": "stdout",
          "text": [
            "On branch main\n",
            "Your branch is up to date with 'origin/main'.\n",
            "\n",
            "Untracked files:\n",
            "  (use \"git add <file>...\" to include in what will be committed)\n",
            "\t\u001b[31mdata/\u001b[m\n",
            "\t\u001b[31mmain.py\u001b[m\n",
            "\t\u001b[31mrecommender/\u001b[m\n",
            "\n",
            "nothing added to commit but untracked files present (use \"git add\" to track)\n"
          ]
        }
      ]
    },
    {
      "cell_type": "code",
      "source": [
        "!git add"
      ],
      "metadata": {
        "colab": {
          "base_uri": "https://localhost:8080/"
        },
        "id": "8lg-AMHfCZfw",
        "outputId": "6b86d064-9597-4342-8923-3fe1e2b40494"
      },
      "execution_count": 17,
      "outputs": [
        {
          "output_type": "stream",
          "name": "stdout",
          "text": [
            "Nothing specified, nothing added.\n",
            "\u001b[33mhint: Maybe you wanted to say 'git add .'?\u001b[m\n",
            "\u001b[33mhint: Turn this message off by running\u001b[m\n",
            "\u001b[33mhint: \"git config advice.addEmptyPathspec false\"\u001b[m\n"
          ]
        }
      ]
    },
    {
      "cell_type": "code",
      "source": [
        "!git init"
      ],
      "metadata": {
        "colab": {
          "base_uri": "https://localhost:8080/"
        },
        "id": "TfmYmTJnChun",
        "outputId": "25b8c431-5661-478f-e0e5-f90a11ac2f3a"
      },
      "execution_count": 22,
      "outputs": [
        {
          "output_type": "stream",
          "name": "stdout",
          "text": [
            "Reinitialized existing Git repository in /content/song70_recommender/song70_recommender/song70_recommender/.git/\n"
          ]
        }
      ]
    },
    {
      "cell_type": "code",
      "source": [
        "!mkdir -p data/raw data/processed recommender"
      ],
      "metadata": {
        "id": "bq0O6oEMEHSS"
      },
      "execution_count": 23,
      "outputs": []
    },
    {
      "cell_type": "code",
      "source": [
        "!ls data/raw/songs.csv data/processed/songs_processed.csv recommender/song_recommender.py main.py"
      ],
      "metadata": {
        "colab": {
          "base_uri": "https://localhost:8080/"
        },
        "id": "9QQbSQAvET99",
        "outputId": "454c6aa5-54a8-40b4-e164-7d69cc6cd9eb"
      },
      "execution_count": 27,
      "outputs": [
        {
          "output_type": "stream",
          "name": "stdout",
          "text": [
            "ls: cannot access 'data/raw/songs.csv': No such file or directory\n",
            "ls: cannot access 'data/processed/songs_processed.csv': No such file or directory\n",
            "ls: cannot access 'recommender/song_recommender.py': No such file or directory\n",
            "ls: cannot access 'main.py': No such file or directory\n"
          ]
        }
      ]
    },
    {
      "cell_type": "code",
      "source": [
        "!git add data/raw/songs.csv data/processed/songs_processed.csv recommender/song_recommender.py main.py"
      ],
      "metadata": {
        "colab": {
          "base_uri": "https://localhost:8080/"
        },
        "id": "d1LduzjrFhH4",
        "outputId": "4df9f152-f362-459b-eecd-483651c7437c"
      },
      "execution_count": 28,
      "outputs": [
        {
          "output_type": "stream",
          "name": "stdout",
          "text": [
            "fatal: pathspec 'data/raw/songs.csv' did not match any files\n"
          ]
        }
      ]
    },
    {
      "cell_type": "code",
      "source": [
        "!git commit -m \"feat: initial song recommendation system\"\n"
      ],
      "metadata": {
        "colab": {
          "base_uri": "https://localhost:8080/"
        },
        "id": "j_FFyCsJFr3u",
        "outputId": "204c3083-664b-443f-ac09-32ddd24c8e28"
      },
      "execution_count": 29,
      "outputs": [
        {
          "output_type": "stream",
          "name": "stdout",
          "text": [
            "On branch main\n",
            "Your branch is up to date with 'origin/main'.\n",
            "\n",
            "nothing to commit, working tree clean\n"
          ]
        }
      ]
    },
    {
      "cell_type": "code",
      "source": [
        "\n",
        "!git remote add origin https://github.com/rithu580/song70_recommender.git\n"
      ],
      "metadata": {
        "colab": {
          "base_uri": "https://localhost:8080/"
        },
        "id": "OdPGAWlBF19F",
        "outputId": "e9cfe712-d557-4428-bbac-8e2bb52daf3f"
      },
      "execution_count": 33,
      "outputs": [
        {
          "output_type": "stream",
          "name": "stdout",
          "text": [
            "error: remote origin already exists.\n"
          ]
        }
      ]
    },
    {
      "cell_type": "code",
      "source": [
        "!git push -u origin main"
      ],
      "metadata": {
        "colab": {
          "base_uri": "https://localhost:8080/"
        },
        "id": "6qdJhQkAGAsf",
        "outputId": "b718ca8e-ff32-4c15-d01f-221edda8d460"
      },
      "execution_count": 31,
      "outputs": [
        {
          "output_type": "stream",
          "name": "stdout",
          "text": [
            "fatal: could not read Username for 'https://github.com': No such device or address\n"
          ]
        }
      ]
    }
  ]
}