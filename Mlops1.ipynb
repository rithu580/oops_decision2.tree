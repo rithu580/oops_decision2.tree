{
  "nbformat": 4,
  "nbformat_minor": 0,
  "metadata": {
    "colab": {
      "provenance": [],
      "authorship_tag": "ABX9TyOP6OP/naWBQ9WJzIbxUQdE",
      "include_colab_link": true
    },
    "kernelspec": {
      "name": "python3",
      "display_name": "Python 3"
    },
    "language_info": {
      "name": "python"
    }
  },
  "cells": [
    {
      "cell_type": "markdown",
      "metadata": {
        "id": "view-in-github",
        "colab_type": "text"
      },
      "source": [
        "<a href=\"https://colab.research.google.com/github/rithu580/oops_decision2.tree/blob/main/Mlops1.ipynb\" target=\"_parent\"><img src=\"https://colab.research.google.com/assets/colab-badge.svg\" alt=\"Open In Colab\"/></a>"
      ]
    },
    {
      "cell_type": "code",
      "execution_count": 1,
      "metadata": {
        "colab": {
          "base_uri": "https://localhost:8080/"
        },
        "id": "JM36httCAEEv",
        "outputId": "9710f8af-896b-45cf-faae-12d9ddd6e00e"
      },
      "outputs": [
        {
          "output_type": "stream",
          "name": "stdout",
          "text": [
            "Cloning into 'outfit2_recommender'...\n",
            "remote: Enumerating objects: 3, done.\u001b[K\n",
            "remote: Counting objects: 100% (3/3), done.\u001b[K\n",
            "remote: Total 3 (delta 0), reused 0 (delta 0), pack-reused 0 (from 0)\u001b[K\n",
            "Receiving objects: 100% (3/3), done.\n",
            "/content/outfit2_recommender\n"
          ]
        }
      ],
      "source": [
        "!git clone https://github.com/rithu580/outfit2_recommender.git\n",
        "%cd outfit2_recommender"
      ]
    },
    {
      "cell_type": "code",
      "source": [
        "!mkdir -p data\n",
        "# Write the CSV file\n",
        "with open(\"data/outfits.csv\", \"w\") as f:\n",
        "    f.write(\"outfit,color,occasion\\n\")\n",
        "    f.write(\"Casual Shirt and Jeans,Blue,Casual\\n\")\n",
        "    f.write(\"Black Suit,Black,Formal\\n\")\n",
        "    f.write(\"Red Dress,Red,Party\\n\")\n",
        "    f.write(\"Sports Tracksuit,Grey,Sports\\n\")\n",
        "# Verify the contents\n",
        "!cat data/outfits.csv"
      ],
      "metadata": {
        "colab": {
          "base_uri": "https://localhost:8080/"
        },
        "id": "hM1xSe8WBT1g",
        "outputId": "b30c7ed4-416c-4b43-d31a-3b8c26b8cea5"
      },
      "execution_count": 3,
      "outputs": [
        {
          "output_type": "stream",
          "name": "stdout",
          "text": [
            "outfit,color,occasion\n",
            "Casual Shirt and Jeans,Blue,Casual\n",
            "Black Suit,Black,Formal\n",
            "Red Dress,Red,Party\n",
            "Sports Tracksuit,Grey,Sports\n"
          ]
        }
      ]
    },
    {
      "cell_type": "code",
      "source": [
        "# Step 4: Create recommender/outfit_recommender.py\n",
        "# Make sure the recommender directory exists\n",
        "!mkdir -p recommender\n",
        "# Create outfit_recommender.py with the recommender class\n",
        "with open(\"recommender/outfit_recommender.py\", \"w\") as f:\n",
        "    f.write(\"\"\"\n",
        "import pandas as pd\n",
        "class OutfitRecommender:\n",
        "    def __init__(self, csv_path):\n",
        "        self.data = pd.read_csv(csv_path)\n",
        "\n",
        "    def recommend(self, color=None, occasion=None):\n",
        "        result = self.data\n",
        "        if color:\n",
        "            result = result[result['color'].str.lower() == color.lower()]\n",
        "        if occasion:\n",
        "            result = result[result['occasion'].str.lower() == occasion.lower()]\n",
        "\n",
        "        return result['outfit'].tolist()\n",
        "\n",
        "\"\"\")"
      ],
      "metadata": {
        "id": "sX4BUzcOBly8"
      },
      "execution_count": 5,
      "outputs": []
    },
    {
      "cell_type": "code",
      "source": [
        "# Write the main.py file in the current directory\n",
        "with open(\"main.py\", \"w\") as f:\n",
        "    f.write(\"\"\"\n",
        "from recommender.outfit_recommender import OutfitRecommender\n",
        "\n",
        "def main():\n",
        "    recommender = OutfitRecommender(\"data/outfits.csv\")\n",
        "    print(\"Recommendations for color='Red', occasion='Party':\")\n",
        "    print(recommender.recommend(color='Red', occasion='Party'))\n",
        "\n",
        "if __name__ == \"__main__\":\n",
        "    main()\n",
        "\"\"\")"
      ],
      "metadata": {
        "id": "TfiS83d8BytX"
      },
      "execution_count": 7,
      "outputs": []
    },
    {
      "cell_type": "code",
      "metadata": {
        "colab": {
          "base_uri": "https://localhost:8080/"
        },
        "id": "5d040e1c",
        "outputId": "0d611aed-5879-422d-e667-af2228e5a062"
      },
      "source": [
        "!python main.py"
      ],
      "execution_count": 8,
      "outputs": [
        {
          "output_type": "stream",
          "name": "stdout",
          "text": [
            "Recommendations for color='Red', occasion='Party':\n",
            "['Red Dress']\n"
          ]
        }
      ]
    },
    {
      "cell_type": "code",
      "source": [
        "# Step 7: Use Git in Colab\n",
        "!git config --global user.email \"rithurithika777@gmail.com\"\n",
        "!git config --global user.name \"rithu580\""
      ],
      "metadata": {
        "id": "r2JOo6PMCR-d"
      },
      "execution_count": 9,
      "outputs": []
    },
    {
      "cell_type": "code",
      "source": [
        "#2. Check Status\n",
        "!git status"
      ],
      "metadata": {
        "colab": {
          "base_uri": "https://localhost:8080/"
        },
        "id": "p00w9Vd2CpoM",
        "outputId": "b4d67b89-8ddd-4afa-ca33-a84b869eefc4"
      },
      "execution_count": 10,
      "outputs": [
        {
          "output_type": "stream",
          "name": "stdout",
          "text": [
            "On branch main\n",
            "Your branch is up to date with 'origin/main'.\n",
            "\n",
            "Untracked files:\n",
            "  (use \"git add <file>...\" to include in what will be committed)\n",
            "\t\u001b[31mdata/\u001b[m\n",
            "\t\u001b[31mmain.py\u001b[m\n",
            "\t\u001b[31mrecommender/\u001b[m\n",
            "\n",
            "nothing added to commit but untracked files present (use \"git add\" to track)\n"
          ]
        }
      ]
    },
    {
      "cell_type": "code",
      "source": [
        "#3. Stage All Changes\n",
        "!git add ."
      ],
      "metadata": {
        "id": "TfpbqK6RC1RF"
      },
      "execution_count": 12,
      "outputs": []
    },
    {
      "cell_type": "code",
      "source": [
        "# Commit changes\n",
        "!git commit -m \"Initial recommender version\""
      ],
      "metadata": {
        "colab": {
          "base_uri": "https://localhost:8080/"
        },
        "id": "WP-Fs3xUC-CN",
        "outputId": "170eea2a-f9e0-40a2-bf6b-045f1c7630db"
      },
      "execution_count": 13,
      "outputs": [
        {
          "output_type": "stream",
          "name": "stdout",
          "text": [
            "[main 24f3625] Initial recommender version\n",
            " 4 files changed, 30 insertions(+)\n",
            " create mode 100644 data/outfits.csv\n",
            " create mode 100644 main.py\n",
            " create mode 100644 recommender/__pycache__/outfit_recommender.cpython-312.pyc\n",
            " create mode 100644 recommender/outfit_recommender.py\n"
          ]
        }
      ]
    }
  ]
}